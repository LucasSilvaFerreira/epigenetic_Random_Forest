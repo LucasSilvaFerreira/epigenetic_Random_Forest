{
 "cells": [
  {
   "cell_type": "code",
   "execution_count": 72,
   "metadata": {
    "collapsed": true
   },
   "outputs": [],
   "source": [
    "%matplotlib inline\n",
    "import seaborn as sns\n",
    "import matplotlib.pyplot as plt\n",
    "import numpy as np"
   ]
  },
  {
   "cell_type": "code",
   "execution_count": 22,
   "metadata": {
    "collapsed": false
   },
   "outputs": [
    {
     "data": {
      "text/plain": [
       "13"
      ]
     },
     "execution_count": 22,
     "metadata": {},
     "output_type": "execute_result"
    }
   ],
   "source": [
    "v_i = [20,3,12,3,4,12,43,54,65,7,2,3,10]\n",
    "len(v)"
   ]
  },
  {
   "cell_type": "code",
   "execution_count": 23,
   "metadata": {
    "collapsed": false
   },
   "outputs": [
    {
     "data": {
      "text/plain": [
       "13"
      ]
     },
     "execution_count": 23,
     "metadata": {},
     "output_type": "execute_result"
    }
   ],
   "source": [
    "c_i =  [2,1,2,1,1,2,2,1,2,1,1,1,2]\n",
    "len(c_i)"
   ]
  },
  {
   "cell_type": "code",
   "execution_count": 43,
   "metadata": {
    "collapsed": true
   },
   "outputs": [],
   "source": [
    "def paint(v):\n",
    "    if v ==2:\n",
    "        return '#d92017'\n",
    "    else:\n",
    "        return '#17b2d9'"
   ]
  },
  {
   "cell_type": "code",
   "execution_count": 44,
   "metadata": {
    "collapsed": false
   },
   "outputs": [
    {
     "data": {
      "text/plain": [
       "<matplotlib.collections.PathCollection at 0x7efbbbebfa90>"
      ]
     },
     "execution_count": 44,
     "metadata": {},
     "output_type": "execute_result"
    },
    {
     "data": {
      "image/png": "[encoded data removed]",
      "text/plain": [
       "<matplotlib.figure.Figure at 0x7efbbbfddc90>"
      ]
     },
     "metadata": {},
     "output_type": "display_data"
    }
   ],
   "source": [
    "plt.scatter(v_i,c_i,c=map( paint, c_i))"
   ]
  },
  {
   "cell_type": "code",
   "execution_count": 54,
   "metadata": {
    "collapsed": false
   },
   "outputs": [],
   "source": [
    "def spliting(i, vector, classes):\n",
    "    return [[vector[:i], classes[:i]],[vector[i:], classes[i:]]  ], [len(vector[:i]), len(vector[i:]) ]"
   ]
  },
  {
   "cell_type": "code",
   "execution_count": 121,
   "metadata": {
    "collapsed": false
   },
   "outputs": [],
   "source": [
    "def best_cut(vector, classes, min_size=2):\n",
    "    best_result = 0\n",
    "    for i_v, v  in enumerate(vector):\n",
    "        splited, len_splited = spliting(v, vector, classes)\n",
    "        if len_splited[0] >= min_size and len_splited[1] >= min_size:\n",
    "            print len_splited\n",
    "            splited_1 = splited[0]\n",
    "            splited_2 = splited[1]\n",
    "            print splited_1\n",
    "            print len([x for x in splited_1[1] if x == 1])\n",
    "            #print len([x for x in splited_1[1] if x == 1])/ float(len_splited[0])\n",
    "            splited_1_hit = 1 - (np.sqrt(len([x for x in splited_1[1] if x == 1])/ float(len_splited[0])))\n",
    "            splited_2_hit = 1 - (np.sqrt(len([x for x in splited_2[1] if x == 2])/ float(len_splited[1])))\n",
    "            print splited_1, splited_2\n",
    "            print splited_1_hit, splited_2_hit\n",
    "            print \"gini:\",splited_1_hit+ splited_2_hit\n",
    "            gini_f_i = splited_1_hit+ splited_2_hit\n",
    "            gini_split_value = \n",
    "#        if result > best_result:\n",
    "#            best_result = result\n",
    "        erradodevo entenre equacoes\n"
   ]
  },
  {
   "cell_type": "code",
   "execution_count": 122,
   "metadata": {
    "collapsed": false
   },
   "outputs": [
    {
     "name": "stdout",
     "output_type": "stream",
     "text": [
      "[3, 10]\n",
      "[[20, 3, 12], [2, 1, 2]]\n",
      "1\n",
      "[[20, 3, 12], [2, 1, 2]] [[3, 4, 12, 43, 54, 65, 7, 2, 3, 10], [1, 1, 2, 2, 1, 2, 1, 1, 1, 2]]\n",
      "0.42264973081 0.367544467966\n",
      "gini: 0.790194198777\n",
      "[3, 10]\n",
      "[[20, 3, 12], [2, 1, 2]]\n",
      "1\n",
      "[[20, 3, 12], [2, 1, 2]] [[3, 4, 12, 43, 54, 65, 7, 2, 3, 10], [1, 1, 2, 2, 1, 2, 1, 1, 1, 2]]\n",
      "0.42264973081 0.367544467966\n",
      "gini: 0.790194198777\n",
      "[4, 9]\n",
      "[[20, 3, 12, 3], [2, 1, 2, 1]]\n",
      "2\n",
      "[[20, 3, 12, 3], [2, 1, 2, 1]] [[4, 12, 43, 54, 65, 7, 2, 3, 10], [1, 2, 2, 1, 2, 1, 1, 1, 2]]\n",
      "0.292893218813 0.333333333333\n",
      "gini: 0.626226552147\n",
      "[7, 6]\n",
      "[[20, 3, 12, 3, 4, 12, 43], [2, 1, 2, 1, 1, 2, 2]]\n",
      "3\n",
      "[[20, 3, 12, 3, 4, 12, 43], [2, 1, 2, 1, 1, 2, 2]] [[54, 65, 7, 2, 3, 10], [1, 2, 1, 1, 1, 2]]\n",
      "0.345346329292 0.42264973081\n",
      "gini: 0.767996060102\n",
      "[2, 11]\n",
      "[[20, 3], [2, 1]]\n",
      "1\n",
      "[[20, 3], [2, 1]] [[12, 3, 4, 12, 43, 54, 65, 7, 2, 3, 10], [2, 1, 1, 2, 2, 1, 2, 1, 1, 1, 2]]\n",
      "0.292893218813 0.325800137537\n",
      "gini: 0.61869335635\n",
      "[3, 10]\n",
      "[[20, 3, 12], [2, 1, 2]]\n",
      "1\n",
      "[[20, 3, 12], [2, 1, 2]] [[3, 4, 12, 43, 54, 65, 7, 2, 3, 10], [1, 1, 2, 2, 1, 2, 1, 1, 1, 2]]\n",
      "0.42264973081 0.367544467966\n",
      "gini: 0.790194198777\n",
      "[10, 3]\n",
      "[[20, 3, 12, 3, 4, 12, 43, 54, 65, 7], [2, 1, 2, 1, 1, 2, 2, 1, 2, 1]]\n",
      "5\n",
      "[[20, 3, 12, 3, 4, 12, 43, 54, 65, 7], [2, 1, 2, 1, 1, 2, 2, 1, 2, 1]] [[2, 3, 10], [1, 1, 2]]\n",
      "0.292893218813 0.42264973081\n",
      "gini: 0.715542949624\n"
     ]
    }
   ],
   "source": [
    "best_cut(v_i, c_i)"
   ]
  },
  {
   "cell_type": "markdown",
   "metadata": {},
   "source": [
    "<img src=\"random-forest-16-638.jpg\">"
   ]
  },
  {
   "cell_type": "code",
   "execution_count": null,
   "metadata": {
    "collapsed": true
   },
   "outputs": [],
   "source": []
  }
 ],
 "metadata": {
  "kernelspec": {
   "display_name": "Python 2",
   "language": "python",
   "name": "python2"
  },
  "language_info": {
   "codemirror_mode": {
    "name": "ipython",
    "version": 2
   },
   "file_extension": ".py",
   "mimetype": "text/x-python",
   "name": "python",
   "nbconvert_exporter": "python",
   "pygments_lexer": "ipython2",
   "version": "2.7.12"
  }
 },
 "nbformat": 4,
 "nbformat_minor": 1
}
